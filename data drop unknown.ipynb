{
 "cells": [
  {
   "cell_type": "code",
   "execution_count": 1,
   "id": "1c1f8590",
   "metadata": {},
   "outputs": [],
   "source": [
    "import numpy as np\n",
    "import pandas as pd\n",
    "import matplotlib.pyplot as plt\n",
    "import seaborn as sbn\n",
    "from sklearn.model_selection import train_test_split\n",
    "import statsmodels as st\n",
    "from statsmodels.stats import outliers_influence\n",
    "from statsmodels.api import Logit\n",
    "import random\n",
    "from sklearn.utils import shuffle\n",
    "import math"
   ]
  },
  {
   "cell_type": "code",
   "execution_count": 2,
   "id": "316bb0b1",
   "metadata": {},
   "outputs": [
    {
     "data": {
      "text/plain": [
       "age            32950\n",
       "job            32950\n",
       "marital        32950\n",
       "education      32950\n",
       "default        32950\n",
       "housing        32950\n",
       "loan           32950\n",
       "contact        32950\n",
       "month          32950\n",
       "day_of_week    32950\n",
       "duration       32950\n",
       "campaign       32950\n",
       "pdays          32950\n",
       "previous       32950\n",
       "poutcome       32950\n",
       "y              32950\n",
       "dtype: int64"
      ]
     },
     "execution_count": 2,
     "metadata": {},
     "output_type": "execute_result"
    }
   ],
   "source": [
    "data=pd.read_csv(r\"E:\\proge bank gharz\\new_train.csv\")\n",
    "data.count()"
   ]
  },
  {
   "cell_type": "markdown",
   "id": "b0e4dd4e",
   "metadata": {},
   "source": [
    "# clean non value"
   ]
  },
  {
   "cell_type": "code",
   "execution_count": 3,
   "id": "3906199b",
   "metadata": {},
   "outputs": [
    {
     "name": "stdout",
     "output_type": "stream",
     "text": [
      "numer of job==unknown******************** age            265\n",
      "job            265\n",
      "marital        265\n",
      "education      265\n",
      "default        265\n",
      "housing        265\n",
      "loan           265\n",
      "contact        265\n",
      "month          265\n",
      "day_of_week    265\n",
      "duration       265\n",
      "campaign       265\n",
      "pdays          265\n",
      "previous       265\n",
      "poutcome       265\n",
      "y              265\n",
      "dtype: int64\n",
      "numer of data after drop job==unknown***************************** age            32685\n",
      "job            32685\n",
      "marital        32685\n",
      "education      32685\n",
      "default        32685\n",
      "housing        32685\n",
      "loan           32685\n",
      "contact        32685\n",
      "month          32685\n",
      "day_of_week    32685\n",
      "duration       32685\n",
      "campaign       32685\n",
      "pdays          32685\n",
      "previous       32685\n",
      "poutcome       32685\n",
      "y              32685\n",
      "dtype: int64\n"
     ]
    }
   ],
   "source": [
    "print(\"numer of job==unknown********************\",data[data[\"job\"]==\"unknown\"].count())\n",
    "data.drop(data[data[\"job\"]==\"unknown\"].index,inplace=True)\n",
    "print(\"numer of data after drop job==unknown*****************************\",data.count())"
   ]
  },
  {
   "cell_type": "code",
   "execution_count": 4,
   "id": "6440d341",
   "metadata": {},
   "outputs": [
    {
     "name": "stdout",
     "output_type": "stream",
     "text": [
      "numer of marital==unknown******************** age            57\n",
      "job            57\n",
      "marital        57\n",
      "education      57\n",
      "default        57\n",
      "housing        57\n",
      "loan           57\n",
      "contact        57\n",
      "month          57\n",
      "day_of_week    57\n",
      "duration       57\n",
      "campaign       57\n",
      "pdays          57\n",
      "previous       57\n",
      "poutcome       57\n",
      "y              57\n",
      "dtype: int64\n",
      "numer of data after drop marital==unknown***************************** age            32628\n",
      "job            32628\n",
      "marital        32628\n",
      "education      32628\n",
      "default        32628\n",
      "housing        32628\n",
      "loan           32628\n",
      "contact        32628\n",
      "month          32628\n",
      "day_of_week    32628\n",
      "duration       32628\n",
      "campaign       32628\n",
      "pdays          32628\n",
      "previous       32628\n",
      "poutcome       32628\n",
      "y              32628\n",
      "dtype: int64\n"
     ]
    }
   ],
   "source": [
    "print(\"numer of marital==unknown********************\",data[data[\"marital\"]==\"unknown\"].count())\n",
    "data.drop(data[data[\"marital\"]==\"unknown\"].index,inplace=True)\n",
    "print(\"numer of data after drop marital==unknown*****************************\",data.count())"
   ]
  },
  {
   "cell_type": "code",
   "execution_count": 5,
   "id": "8f597312",
   "metadata": {},
   "outputs": [
    {
     "name": "stdout",
     "output_type": "stream",
     "text": [
      "numer of education==unknown******************** age            1294\n",
      "job            1294\n",
      "marital        1294\n",
      "education      1294\n",
      "default        1294\n",
      "housing        1294\n",
      "loan           1294\n",
      "contact        1294\n",
      "month          1294\n",
      "day_of_week    1294\n",
      "duration       1294\n",
      "campaign       1294\n",
      "pdays          1294\n",
      "previous       1294\n",
      "poutcome       1294\n",
      "y              1294\n",
      "dtype: int64\n",
      "numer of data after drop marital==unknown***************************** age            31334\n",
      "job            31334\n",
      "marital        31334\n",
      "education      31334\n",
      "default        31334\n",
      "housing        31334\n",
      "loan           31334\n",
      "contact        31334\n",
      "month          31334\n",
      "day_of_week    31334\n",
      "duration       31334\n",
      "campaign       31334\n",
      "pdays          31334\n",
      "previous       31334\n",
      "poutcome       31334\n",
      "y              31334\n",
      "dtype: int64\n"
     ]
    }
   ],
   "source": [
    "print(\"numer of education==unknown********************\",data[data[\"education\"]==\"unknown\"].count())\n",
    "data.drop(data[data[\"education\"]==\"unknown\"].index,inplace=True)\n",
    "print(\"numer of data after drop marital==unknown*****************************\",data.count())"
   ]
  },
  {
   "cell_type": "code",
   "execution_count": 6,
   "id": "2a545439",
   "metadata": {},
   "outputs": [
    {
     "name": "stdout",
     "output_type": "stream",
     "text": [
      "numer of default==unknown******************** age            6432\n",
      "job            6432\n",
      "marital        6432\n",
      "education      6432\n",
      "default        6432\n",
      "housing        6432\n",
      "loan           6432\n",
      "contact        6432\n",
      "month          6432\n",
      "day_of_week    6432\n",
      "duration       6432\n",
      "campaign       6432\n",
      "pdays          6432\n",
      "previous       6432\n",
      "poutcome       6432\n",
      "y              6432\n",
      "dtype: int64\n",
      "numer of data after drop default==unknown***************************** age            24902\n",
      "job            24902\n",
      "marital        24902\n",
      "education      24902\n",
      "default        24902\n",
      "housing        24902\n",
      "loan           24902\n",
      "contact        24902\n",
      "month          24902\n",
      "day_of_week    24902\n",
      "duration       24902\n",
      "campaign       24902\n",
      "pdays          24902\n",
      "previous       24902\n",
      "poutcome       24902\n",
      "y              24902\n",
      "dtype: int64\n"
     ]
    }
   ],
   "source": [
    "print(\"numer of default==unknown********************\",data[data[\"default\"]==\"unknown\"].count())\n",
    "data.drop(data[data[\"default\"]==\"unknown\"].index,inplace=True)\n",
    "print(\"numer of data after drop default==unknown*****************************\",data.count())"
   ]
  },
  {
   "cell_type": "code",
   "execution_count": 7,
   "id": "b8877e57",
   "metadata": {},
   "outputs": [
    {
     "name": "stdout",
     "output_type": "stream",
     "text": [
      "numer of housing==unknown******************** age            597\n",
      "job            597\n",
      "marital        597\n",
      "education      597\n",
      "default        597\n",
      "housing        597\n",
      "loan           597\n",
      "contact        597\n",
      "month          597\n",
      "day_of_week    597\n",
      "duration       597\n",
      "campaign       597\n",
      "pdays          597\n",
      "previous       597\n",
      "poutcome       597\n",
      "y              597\n",
      "dtype: int64\n",
      "numer of data after drop housing==unknown***************************** age            24305\n",
      "job            24305\n",
      "marital        24305\n",
      "education      24305\n",
      "default        24305\n",
      "housing        24305\n",
      "loan           24305\n",
      "contact        24305\n",
      "month          24305\n",
      "day_of_week    24305\n",
      "duration       24305\n",
      "campaign       24305\n",
      "pdays          24305\n",
      "previous       24305\n",
      "poutcome       24305\n",
      "y              24305\n",
      "dtype: int64\n"
     ]
    }
   ],
   "source": [
    "print(\"numer of housing==unknown********************\",data[data[\"housing\"]==\"unknown\"].count())\n",
    "data.drop(data[data[\"housing\"]==\"unknown\"].index,inplace=True)\n",
    "print(\"numer of data after drop housing==unknown*****************************\",data.count())"
   ]
  },
  {
   "cell_type": "code",
   "execution_count": 8,
   "id": "2126ef68",
   "metadata": {},
   "outputs": [
    {
     "name": "stdout",
     "output_type": "stream",
     "text": [
      "numer of loan==unknown******************** age            0\n",
      "job            0\n",
      "marital        0\n",
      "education      0\n",
      "default        0\n",
      "housing        0\n",
      "loan           0\n",
      "contact        0\n",
      "month          0\n",
      "day_of_week    0\n",
      "duration       0\n",
      "campaign       0\n",
      "pdays          0\n",
      "previous       0\n",
      "poutcome       0\n",
      "y              0\n",
      "dtype: int64\n"
     ]
    }
   ],
   "source": [
    "print(\"numer of loan==unknown********************\",data[data[\"loan\"]==\"unknown\"].count())\n"
   ]
  },
  {
   "cell_type": "code",
   "execution_count": 9,
   "id": "f412363f",
   "metadata": {},
   "outputs": [
    {
     "name": "stdout",
     "output_type": "stream",
     "text": [
      "numer of loan==unknown******************** age            0\n",
      "job            0\n",
      "marital        0\n",
      "education      0\n",
      "default        0\n",
      "housing        0\n",
      "loan           0\n",
      "contact        0\n",
      "month          0\n",
      "day_of_week    0\n",
      "duration       0\n",
      "campaign       0\n",
      "pdays          0\n",
      "previous       0\n",
      "poutcome       0\n",
      "y              0\n",
      "dtype: int64\n"
     ]
    }
   ],
   "source": [
    "print(\"numer of loan==unknown********************\",data[data[\"contact\"]==\"unknown\"].count())\n"
   ]
  },
  {
   "cell_type": "code",
   "execution_count": 10,
   "id": "0b7175a4",
   "metadata": {},
   "outputs": [
    {
     "name": "stdout",
     "output_type": "stream",
     "text": [
      "numer of loan==unknown******************** age            20545\n",
      "job            20545\n",
      "marital        20545\n",
      "education      20545\n",
      "default        20545\n",
      "housing        20545\n",
      "loan           20545\n",
      "contact        20545\n",
      "month          20545\n",
      "day_of_week    20545\n",
      "duration       20545\n",
      "campaign       20545\n",
      "pdays          20545\n",
      "previous       20545\n",
      "poutcome       20545\n",
      "y              20545\n",
      "dtype: int64\n"
     ]
    }
   ],
   "source": [
    "print(\"numer of loan==unknown********************\",data[data[\"poutcome\"]==\"nonexistent\"].count())"
   ]
  },
  {
   "cell_type": "code",
   "execution_count": 11,
   "id": "1377789b",
   "metadata": {},
   "outputs": [],
   "source": [
    "data.drop(\"poutcome\",axis=1,inplace=True)"
   ]
  },
  {
   "cell_type": "code",
   "execution_count": 12,
   "id": "452908e7",
   "metadata": {},
   "outputs": [],
   "source": [
    "data_drop_unknown=data\n",
    "data_drop_unknown.to_csv(r\"C:\\Users\\HP 250\\Desktop\\preojec_banca\\data_drop_unknown.csv\")"
   ]
  },
  {
   "cell_type": "code",
   "execution_count": null,
   "id": "b8c8e2ab",
   "metadata": {},
   "outputs": [],
   "source": []
  }
 ],
 "metadata": {
  "kernelspec": {
   "display_name": "Python 3 (ipykernel)",
   "language": "python",
   "name": "python3"
  },
  "language_info": {
   "codemirror_mode": {
    "name": "ipython",
    "version": 3
   },
   "file_extension": ".py",
   "mimetype": "text/x-python",
   "name": "python",
   "nbconvert_exporter": "python",
   "pygments_lexer": "ipython3",
   "version": "3.9.0"
  }
 },
 "nbformat": 4,
 "nbformat_minor": 5
}
